{
 "cells": [
  {
   "cell_type": "markdown",
   "id": "38c55b21",
   "metadata": {
    "papermill": {
     "duration": 0.00722,
     "end_time": "2022-09-14T17:20:56.115458",
     "exception": false,
     "start_time": "2022-09-14T17:20:56.108238",
     "status": "completed"
    },
    "tags": []
   },
   "source": [
    "**This notebook is an exercise in the [Data Visualization](https://www.kaggle.com/learn/data-visualization) course.  You can reference the tutorial at [this link](https://www.kaggle.com/alexisbcook/bar-charts-and-heatmaps).**\n",
    "\n",
    "---\n"
   ]
  },
  {
   "cell_type": "markdown",
   "id": "f88dc1d5",
   "metadata": {
    "papermill": {
     "duration": 0.005422,
     "end_time": "2022-09-14T17:20:56.126899",
     "exception": false,
     "start_time": "2022-09-14T17:20:56.121477",
     "status": "completed"
    },
    "tags": []
   },
   "source": [
    "In this exercise, you will use your new knowledge to propose a solution to a real-world scenario.  To succeed, you will need to import data into Python, answer questions using the data, and generate **bar charts** and **heatmaps** to understand patterns in the data.\n",
    "\n",
    "## Scenario\n",
    "\n",
    "You've recently decided to create your very own video game!  As an avid reader of [IGN Game Reviews](https://www.ign.com/reviews/games), you hear about all of the most recent game releases, along with the ranking they've received from experts, ranging from 0 (_Disaster_) to 10 (_Masterpiece_).\n",
    "\n",
    "![ex2_ign](https://i.imgur.com/Oh06Fu1.png)\n",
    "\n",
    "You're interested in using [IGN reviews](https://www.ign.com/reviews/games) to guide the design of your upcoming game.  Thankfully, someone has summarized the rankings in a really useful CSV file that you can use to guide your analysis.\n",
    "\n",
    "## Setup\n",
    "\n",
    "Run the next cell to import and configure the Python libraries that you need to complete the exercise."
   ]
  },
  {
   "cell_type": "code",
   "execution_count": 1,
   "id": "7d7e0fb3",
   "metadata": {
    "execution": {
     "iopub.execute_input": "2022-09-14T17:20:56.140526Z",
     "iopub.status.busy": "2022-09-14T17:20:56.140027Z",
     "iopub.status.idle": "2022-09-14T17:20:57.296115Z",
     "shell.execute_reply": "2022-09-14T17:20:57.294903Z"
    },
    "papermill": {
     "duration": 1.167021,
     "end_time": "2022-09-14T17:20:57.299638",
     "exception": false,
     "start_time": "2022-09-14T17:20:56.132617",
     "status": "completed"
    },
    "tags": []
   },
   "outputs": [
    {
     "name": "stdout",
     "output_type": "stream",
     "text": [
      "Setup Complete\n"
     ]
    }
   ],
   "source": [
    "import pandas as pd\n",
    "pd.plotting.register_matplotlib_converters()\n",
    "import matplotlib.pyplot as plt\n",
    "%matplotlib inline\n",
    "import seaborn as sns\n",
    "print(\"Setup Complete\")"
   ]
  },
  {
   "cell_type": "markdown",
   "id": "8e5099bd",
   "metadata": {
    "papermill": {
     "duration": 0.007435,
     "end_time": "2022-09-14T17:20:57.315610",
     "exception": false,
     "start_time": "2022-09-14T17:20:57.308175",
     "status": "completed"
    },
    "tags": []
   },
   "source": [
    "The questions below will give you feedback on your work. Run the following cell to set up our feedback system."
   ]
  },
  {
   "cell_type": "code",
   "execution_count": 2,
   "id": "7cd32e9a",
   "metadata": {
    "execution": {
     "iopub.execute_input": "2022-09-14T17:20:57.329574Z",
     "iopub.status.busy": "2022-09-14T17:20:57.328657Z",
     "iopub.status.idle": "2022-09-14T17:20:57.391709Z",
     "shell.execute_reply": "2022-09-14T17:20:57.390105Z"
    },
    "papermill": {
     "duration": 0.073477,
     "end_time": "2022-09-14T17:20:57.394910",
     "exception": false,
     "start_time": "2022-09-14T17:20:57.321433",
     "status": "completed"
    },
    "tags": []
   },
   "outputs": [
    {
     "name": "stdout",
     "output_type": "stream",
     "text": [
      "Setup Complete\n"
     ]
    }
   ],
   "source": [
    "# Set up code checking\n",
    "import os\n",
    "if not os.path.exists(\"../input/ign_scores.csv\"):\n",
    "    os.symlink(\"../input/data-for-datavis/ign_scores.csv\", \"../input/ign_scores.csv\") \n",
    "from learntools.core import binder\n",
    "binder.bind(globals())\n",
    "from learntools.data_viz_to_coder.ex3 import *\n",
    "print(\"Setup Complete\")"
   ]
  },
  {
   "cell_type": "markdown",
   "id": "17520ea7",
   "metadata": {
    "papermill": {
     "duration": 0.00571,
     "end_time": "2022-09-14T17:20:57.406868",
     "exception": false,
     "start_time": "2022-09-14T17:20:57.401158",
     "status": "completed"
    },
    "tags": []
   },
   "source": [
    "## Step 1: Load the data\n",
    "\n",
    "Read the IGN data file into `ign_data`.  Use the `\"Platform\"` column to label the rows."
   ]
  },
  {
   "cell_type": "code",
   "execution_count": 3,
   "id": "b2a5ebb1",
   "metadata": {
    "execution": {
     "iopub.execute_input": "2022-09-14T17:20:57.420957Z",
     "iopub.status.busy": "2022-09-14T17:20:57.420163Z",
     "iopub.status.idle": "2022-09-14T17:20:57.439734Z",
     "shell.execute_reply": "2022-09-14T17:20:57.438617Z"
    },
    "papermill": {
     "duration": 0.029432,
     "end_time": "2022-09-14T17:20:57.442125",
     "exception": false,
     "start_time": "2022-09-14T17:20:57.412693",
     "status": "completed"
    },
    "tags": []
   },
   "outputs": [
    {
     "data": {
      "application/javascript": [
       "parent.postMessage({\"jupyterEvent\": \"custom.exercise_interaction\", \"data\": {\"outcomeType\": 1, \"valueTowardsCompletion\": 0.5, \"interactionType\": 1, \"questionType\": 1, \"questionId\": \"1_LoadIGNData\", \"learnToolsVersion\": \"0.3.4\", \"failureMessage\": \"\", \"exceptionClass\": \"\", \"trace\": \"\"}}, \"*\")"
      ],
      "text/plain": [
       "<IPython.core.display.Javascript object>"
      ]
     },
     "metadata": {},
     "output_type": "display_data"
    },
    {
     "data": {
      "text/markdown": [
       "<span style=\"color:#33cc33\">Correct</span>"
      ],
      "text/plain": [
       "Correct"
      ]
     },
     "metadata": {},
     "output_type": "display_data"
    }
   ],
   "source": [
    "# Path of the file to read\n",
    "ign_filepath = \"../input/ign_scores.csv\"\n",
    "\n",
    "# Fill in the line below to read the file into a variable ign_data\n",
    "ign_data = pd.read_csv(ign_filepath, index_col=\"Platform\")\n",
    "\n",
    "# Run the line below with no changes to check that you've loaded the data correctly\n",
    "step_1.check()"
   ]
  },
  {
   "cell_type": "code",
   "execution_count": 4,
   "id": "06ba86dd",
   "metadata": {
    "execution": {
     "iopub.execute_input": "2022-09-14T17:20:57.456518Z",
     "iopub.status.busy": "2022-09-14T17:20:57.455702Z",
     "iopub.status.idle": "2022-09-14T17:20:57.465186Z",
     "shell.execute_reply": "2022-09-14T17:20:57.464020Z"
    },
    "papermill": {
     "duration": 0.019949,
     "end_time": "2022-09-14T17:20:57.468141",
     "exception": false,
     "start_time": "2022-09-14T17:20:57.448192",
     "status": "completed"
    },
    "tags": []
   },
   "outputs": [
    {
     "data": {
      "application/javascript": [
       "parent.postMessage({\"jupyterEvent\": \"custom.exercise_interaction\", \"data\": {\"interactionType\": 3, \"questionType\": 1, \"questionId\": \"1_LoadIGNData\", \"learnToolsVersion\": \"0.3.4\", \"valueTowardsCompletion\": 0.0, \"failureMessage\": \"\", \"exceptionClass\": \"\", \"trace\": \"\", \"outcomeType\": 4}}, \"*\")"
      ],
      "text/plain": [
       "<IPython.core.display.Javascript object>"
      ]
     },
     "metadata": {},
     "output_type": "display_data"
    },
    {
     "data": {
      "text/markdown": [
       "<span style=\"color:#33cc99\">Solution:</span> \n",
       "```python\n",
       "ign_data = pd.read_csv(ign_filepath, index_col=\"Platform\")\n",
       "```"
      ],
      "text/plain": [
       "Solution: \n",
       "```python\n",
       "ign_data = pd.read_csv(ign_filepath, index_col=\"Platform\")\n",
       "```"
      ]
     },
     "metadata": {},
     "output_type": "display_data"
    }
   ],
   "source": [
    "# Lines below will give you a hint or solution code\n",
    "#step_1.hint()\n",
    "step_1.solution()"
   ]
  },
  {
   "cell_type": "markdown",
   "id": "72c58928",
   "metadata": {
    "papermill": {
     "duration": 0.008364,
     "end_time": "2022-09-14T17:20:57.485701",
     "exception": false,
     "start_time": "2022-09-14T17:20:57.477337",
     "status": "completed"
    },
    "tags": []
   },
   "source": [
    "## Step 2: Review the data\n",
    "\n",
    "Use a Python command to print the entire dataset."
   ]
  },
  {
   "cell_type": "code",
   "execution_count": 5,
   "id": "b62102a8",
   "metadata": {
    "execution": {
     "iopub.execute_input": "2022-09-14T17:20:57.500921Z",
     "iopub.status.busy": "2022-09-14T17:20:57.499728Z",
     "iopub.status.idle": "2022-09-14T17:20:57.508688Z",
     "shell.execute_reply": "2022-09-14T17:20:57.507830Z"
    },
    "papermill": {
     "duration": 0.019066,
     "end_time": "2022-09-14T17:20:57.511114",
     "exception": false,
     "start_time": "2022-09-14T17:20:57.492048",
     "status": "completed"
    },
    "tags": []
   },
   "outputs": [
    {
     "data": {
      "text/markdown": [],
      "text/plain": [
       "<learntools.core.constants.PlaceholderValue at 0x7fa6990303d0>"
      ]
     },
     "execution_count": 5,
     "metadata": {},
     "output_type": "execute_result"
    }
   ],
   "source": [
    "# Print the data\n",
    "____ # Your code here"
   ]
  },
  {
   "cell_type": "markdown",
   "id": "bd9bf0b1",
   "metadata": {
    "papermill": {
     "duration": 0.006073,
     "end_time": "2022-09-14T17:20:57.523487",
     "exception": false,
     "start_time": "2022-09-14T17:20:57.517414",
     "status": "completed"
    },
    "tags": []
   },
   "source": [
    "The dataset that you've just printed shows the average score, by platform and genre.  Use the data to answer the questions below."
   ]
  },
  {
   "cell_type": "code",
   "execution_count": 6,
   "id": "d4e92576",
   "metadata": {
    "execution": {
     "iopub.execute_input": "2022-09-14T17:20:57.537781Z",
     "iopub.status.busy": "2022-09-14T17:20:57.537294Z",
     "iopub.status.idle": "2022-09-14T17:20:57.547219Z",
     "shell.execute_reply": "2022-09-14T17:20:57.546115Z"
    },
    "papermill": {
     "duration": 0.019518,
     "end_time": "2022-09-14T17:20:57.549268",
     "exception": false,
     "start_time": "2022-09-14T17:20:57.529750",
     "status": "completed"
    },
    "tags": []
   },
   "outputs": [
    {
     "data": {
      "application/javascript": [
       "parent.postMessage({\"jupyterEvent\": \"custom.exercise_interaction\", \"data\": {\"outcomeType\": 1, \"valueTowardsCompletion\": 0.5, \"interactionType\": 1, \"questionType\": 1, \"questionId\": \"2_ReviewData\", \"learnToolsVersion\": \"0.3.4\", \"failureMessage\": \"\", \"exceptionClass\": \"\", \"trace\": \"\"}}, \"*\")"
      ],
      "text/plain": [
       "<IPython.core.display.Javascript object>"
      ]
     },
     "metadata": {},
     "output_type": "display_data"
    },
    {
     "data": {
      "text/markdown": [
       "<span style=\"color:#33cc33\">Correct</span>"
      ],
      "text/plain": [
       "Correct"
      ]
     },
     "metadata": {},
     "output_type": "display_data"
    }
   ],
   "source": [
    "# Fill in the line below: What is the highest average score received by PC games,\n",
    "# for any genre?\n",
    "high_score = 7.759930\n",
    "\n",
    "# Fill in the line below: On the Playstation Vita platform, which genre has the \n",
    "# lowest average score? Please provide the name of the column, and put your answer \n",
    "# in single quotes (e.g., 'Action', 'Adventure', 'Fighting', etc.)\n",
    "worst_genre = 'Simulation'\n",
    "\n",
    "# Check your answers\n",
    "step_2.check()"
   ]
  },
  {
   "cell_type": "code",
   "execution_count": 7,
   "id": "10a61965",
   "metadata": {
    "execution": {
     "iopub.execute_input": "2022-09-14T17:20:57.565965Z",
     "iopub.status.busy": "2022-09-14T17:20:57.564993Z",
     "iopub.status.idle": "2022-09-14T17:20:57.575728Z",
     "shell.execute_reply": "2022-09-14T17:20:57.574874Z"
    },
    "papermill": {
     "duration": 0.022194,
     "end_time": "2022-09-14T17:20:57.578037",
     "exception": false,
     "start_time": "2022-09-14T17:20:57.555843",
     "status": "completed"
    },
    "tags": []
   },
   "outputs": [
    {
     "data": {
      "application/javascript": [
       "parent.postMessage({\"jupyterEvent\": \"custom.exercise_interaction\", \"data\": {\"interactionType\": 3, \"questionType\": 1, \"questionId\": \"2_ReviewData\", \"learnToolsVersion\": \"0.3.4\", \"valueTowardsCompletion\": 0.0, \"failureMessage\": \"\", \"exceptionClass\": \"\", \"trace\": \"\", \"outcomeType\": 4}}, \"*\")"
      ],
      "text/plain": [
       "<IPython.core.display.Javascript object>"
      ]
     },
     "metadata": {},
     "output_type": "display_data"
    },
    {
     "data": {
      "text/markdown": [
       "<span style=\"color:#33cc99\">Solution:</span> \n",
       "```python\n",
       "# Print the data\n",
       "ign_data\n",
       "# What is the highest average score received by PC games, for any genre?\n",
       "high_score = 7.759930\n",
       "# On the Playstation Vita platform, which genre has the \n",
       "# lowest average score? Please provide the name of the column, and put your answer \n",
       "# in single quotes (e.g., 'Action', 'Adventure', 'Fighting', etc.)\n",
       "worst_genre = 'Simulation'\n",
       "\n",
       "```"
      ],
      "text/plain": [
       "Solution: \n",
       "```python\n",
       "# Print the data\n",
       "ign_data\n",
       "# What is the highest average score received by PC games, for any genre?\n",
       "high_score = 7.759930\n",
       "# On the Playstation Vita platform, which genre has the \n",
       "# lowest average score? Please provide the name of the column, and put your answer \n",
       "# in single quotes (e.g., 'Action', 'Adventure', 'Fighting', etc.)\n",
       "worst_genre = 'Simulation'\n",
       "\n",
       "```"
      ]
     },
     "metadata": {},
     "output_type": "display_data"
    }
   ],
   "source": [
    "# Lines below will give you a hint or solution code\n",
    "#step_2.hint()\n",
    "step_2.solution()"
   ]
  },
  {
   "cell_type": "markdown",
   "id": "bd6b522b",
   "metadata": {
    "papermill": {
     "duration": 0.00657,
     "end_time": "2022-09-14T17:20:57.591461",
     "exception": false,
     "start_time": "2022-09-14T17:20:57.584891",
     "status": "completed"
    },
    "tags": []
   },
   "source": [
    "## Step 3: Which platform is best?\n",
    "\n",
    "Since you can remember, your favorite video game has been [**Mario Kart Wii**](https://www.ign.com/games/mario-kart-wii), a racing game released for the Wii platform in 2008.  And, IGN agrees with you that it is a great game -- their rating for this game is a whopping 8.9!  Inspired by the success of this game, you're considering creating your very own racing game for the Wii platform.\n",
    "\n",
    "#### Part A\n",
    "\n",
    "Create a bar chart that shows the average score for **racing** games, for each platform.  Your chart should have one bar for each platform. "
   ]
  },
  {
   "cell_type": "code",
   "execution_count": 8,
   "id": "de4d5f7c",
   "metadata": {
    "execution": {
     "iopub.execute_input": "2022-09-14T17:20:57.607072Z",
     "iopub.status.busy": "2022-09-14T17:20:57.606326Z",
     "iopub.status.idle": "2022-09-14T17:20:58.028085Z",
     "shell.execute_reply": "2022-09-14T17:20:58.027088Z"
    },
    "papermill": {
     "duration": 0.432436,
     "end_time": "2022-09-14T17:20:58.030573",
     "exception": false,
     "start_time": "2022-09-14T17:20:57.598137",
     "status": "completed"
    },
    "tags": []
   },
   "outputs": [
    {
     "data": {
      "application/javascript": [
       "parent.postMessage({\"jupyterEvent\": \"custom.exercise_interaction\", \"data\": {\"outcomeType\": 1, \"valueTowardsCompletion\": 0.5, \"interactionType\": 1, \"questionType\": 2, \"questionId\": \"3.1_PlotRacing\", \"learnToolsVersion\": \"0.3.4\", \"failureMessage\": \"\", \"exceptionClass\": \"\", \"trace\": \"\"}}, \"*\")"
      ],
      "text/plain": [
       "<IPython.core.display.Javascript object>"
      ]
     },
     "metadata": {},
     "output_type": "display_data"
    },
    {
     "data": {
      "text/markdown": [
       "<span style=\"color:#33cc33\">Correct</span>"
      ],
      "text/plain": [
       "Correct"
      ]
     },
     "metadata": {},
     "output_type": "display_data"
    },
    {
     "data": {
      "image/png": "[encoded data removed]",
      "text/plain": [
       "<Figure size 576x432 with 1 Axes>"
      ]
     },
     "metadata": {
      "needs_background": "light"
     },
     "output_type": "display_data"
    }
   ],
   "source": [
    "# Bar chart showing average score for racing games by platform\n",
    "plt.figure(figsize=(8, 6))\n",
    "# Bar chart showing average score for racing games by platform\n",
    "sns.barplot(x=ign_data['Racing'], y=ign_data.index)\n",
    "# Add label for horizontal axis\n",
    "plt.xlabel(\"\")\n",
    "# Add label for vertical axis\n",
    "plt.title(\"Average Score for Racing Games, by Platform\")\n",
    "\n",
    "# Check your answer\n",
    "step_3.a.check()"
   ]
  },
  {
   "cell_type": "code",
   "execution_count": 9,
   "id": "4e7bdb82",
   "metadata": {
    "execution": {
     "iopub.execute_input": "2022-09-14T17:20:58.048711Z",
     "iopub.status.busy": "2022-09-14T17:20:58.047732Z",
     "iopub.status.idle": "2022-09-14T17:20:58.416904Z",
     "shell.execute_reply": "2022-09-14T17:20:58.415751Z"
    },
    "papermill": {
     "duration": 0.381069,
     "end_time": "2022-09-14T17:20:58.419422",
     "exception": false,
     "start_time": "2022-09-14T17:20:58.038353",
     "status": "completed"
    },
    "tags": []
   },
   "outputs": [
    {
     "data": {
      "application/javascript": [
       "parent.postMessage({\"jupyterEvent\": \"custom.exercise_interaction\", \"data\": {\"interactionType\": 3, \"questionType\": 2, \"questionId\": \"3.1_PlotRacing\", \"learnToolsVersion\": \"0.3.4\", \"valueTowardsCompletion\": 0.0, \"failureMessage\": \"\", \"exceptionClass\": \"\", \"trace\": \"\", \"outcomeType\": 4}}, \"*\")"
      ],
      "text/plain": [
       "<IPython.core.display.Javascript object>"
      ]
     },
     "metadata": {},
     "output_type": "display_data"
    },
    {
     "data": {
      "text/markdown": [
       "<span style=\"color:#33cc99\">Solution:</span> \n",
       "```python\n",
       "# Set the width and height of the figure\n",
       "plt.figure(figsize=(8, 6))\n",
       "# Bar chart showing average score for racing games by platform\n",
       "sns.barplot(x=ign_data['Racing'], y=ign_data.index)\n",
       "# Add label for horizontal axis\n",
       "plt.xlabel(\"\")\n",
       "# Add label for vertical axis\n",
       "plt.title(\"Average Score for Racing Games, by Platform\")\n",
       "\n",
       "```"
      ],
      "text/plain": [
       "Solution: \n",
       "```python\n",
       "# Set the width and height of the figure\n",
       "plt.figure(figsize=(8, 6))\n",
       "# Bar chart showing average score for racing games by platform\n",
       "sns.barplot(x=ign_data['Racing'], y=ign_data.index)\n",
       "# Add label for horizontal axis\n",
       "plt.xlabel(\"\")\n",
       "# Add label for vertical axis\n",
       "plt.title(\"Average Score for Racing Games, by Platform\")\n",
       "\n",
       "```"
      ]
     },
     "metadata": {},
     "output_type": "display_data"
    },
    {
     "data": {
      "image/png": "[encoded data removed]",
      "text/plain": [
       "<Figure size 576x432 with 1 Axes>"
      ]
     },
     "metadata": {
      "needs_background": "light"
     },
     "output_type": "display_data"
    }
   ],
   "source": [
    "# Lines below will give you a hint or solution code\n",
    "#step_3.a.hint()\n",
    "step_3.a.solution_plot()"
   ]
  },
  {
   "cell_type": "markdown",
   "id": "554da956",
   "metadata": {
    "papermill": {
     "duration": 0.008095,
     "end_time": "2022-09-14T17:20:58.436434",
     "exception": false,
     "start_time": "2022-09-14T17:20:58.428339",
     "status": "completed"
    },
    "tags": []
   },
   "source": [
    "#### Part B\n",
    "\n",
    "Based on the bar chart, do you expect a racing game for the **Wii** platform to receive a high rating?  If not, what gaming platform seems to be the best alternative?"
   ]
  },
  {
   "cell_type": "code",
   "execution_count": 10,
   "id": "2b774f9f",
   "metadata": {
    "execution": {
     "iopub.execute_input": "2022-09-14T17:20:58.455402Z",
     "iopub.status.busy": "2022-09-14T17:20:58.454938Z",
     "iopub.status.idle": "2022-09-14T17:20:58.460228Z",
     "shell.execute_reply": "2022-09-14T17:20:58.459010Z"
    },
    "papermill": {
     "duration": 0.017574,
     "end_time": "2022-09-14T17:20:58.462562",
     "exception": false,
     "start_time": "2022-09-14T17:20:58.444988",
     "status": "completed"
    },
    "tags": []
   },
   "outputs": [],
   "source": [
    "#step_3.b.hint()"
   ]
  },
  {
   "cell_type": "code",
   "execution_count": 11,
   "id": "9390d7cd",
   "metadata": {
    "execution": {
     "iopub.execute_input": "2022-09-14T17:20:58.481436Z",
     "iopub.status.busy": "2022-09-14T17:20:58.481013Z",
     "iopub.status.idle": "2022-09-14T17:20:58.490892Z",
     "shell.execute_reply": "2022-09-14T17:20:58.489614Z"
    },
    "papermill": {
     "duration": 0.021998,
     "end_time": "2022-09-14T17:20:58.493192",
     "exception": false,
     "start_time": "2022-09-14T17:20:58.471194",
     "status": "completed"
    },
    "tags": []
   },
   "outputs": [
    {
     "data": {
      "application/javascript": [
       "parent.postMessage({\"jupyterEvent\": \"custom.exercise_interaction\", \"data\": {\"interactionType\": 3, \"questionType\": 4, \"questionId\": \"3.2_ThinkRacing\", \"learnToolsVersion\": \"0.3.4\", \"valueTowardsCompletion\": 0.0, \"failureMessage\": \"\", \"exceptionClass\": \"\", \"trace\": \"\", \"outcomeType\": 4}}, \"*\")"
      ],
      "text/plain": [
       "<IPython.core.display.Javascript object>"
      ]
     },
     "metadata": {},
     "output_type": "display_data"
    },
    {
     "data": {
      "text/markdown": [
       "<span style=\"color:#33cc99\">Solution:</span> Based on the data, we should not expect a racing game for the Wii platform to receive a high rating.  In fact, on average, racing games for Wii score lower than any other platform.  Xbox One seems to be the best alternative, since it has the highest average ratings."
      ],
      "text/plain": [
       "Solution: Based on the data, we should not expect a racing game for the Wii platform to receive a high rating.  In fact, on average, racing games for Wii score lower than any other platform.  Xbox One seems to be the best alternative, since it has the highest average ratings."
      ]
     },
     "metadata": {},
     "output_type": "display_data"
    }
   ],
   "source": [
    "# Check your answer (Run this code cell to receive credit!)\n",
    "step_3.b.solution()"
   ]
  },
  {
   "cell_type": "markdown",
   "id": "cf699bb5",
   "metadata": {
    "papermill": {
     "duration": 0.008363,
     "end_time": "2022-09-14T17:20:58.510274",
     "exception": false,
     "start_time": "2022-09-14T17:20:58.501911",
     "status": "completed"
    },
    "tags": []
   },
   "source": [
    "## Step 4: All possible combinations!\n",
    "\n",
    "Eventually, you decide against creating a racing game for Wii, but you're still committed to creating your own video game!  Since your gaming interests are pretty broad (_... you generally love most video games_), you decide to use the IGN data to inform your new choice of genre and platform.\n",
    "\n",
    "#### Part A\n",
    "\n",
    "Use the data to create a heatmap of average score by genre and platform.  "
   ]
  },
  {
   "cell_type": "code",
   "execution_count": 12,
   "id": "c8e7dc1b",
   "metadata": {
    "execution": {
     "iopub.execute_input": "2022-09-14T17:20:58.529341Z",
     "iopub.status.busy": "2022-09-14T17:20:58.528881Z",
     "iopub.status.idle": "2022-09-14T17:20:58.540145Z",
     "shell.execute_reply": "2022-09-14T17:20:58.539329Z"
    },
    "papermill": {
     "duration": 0.023254,
     "end_time": "2022-09-14T17:20:58.542161",
     "exception": false,
     "start_time": "2022-09-14T17:20:58.518907",
     "status": "completed"
    },
    "tags": []
   },
   "outputs": [
    {
     "data": {
      "application/javascript": [
       "parent.postMessage({\"jupyterEvent\": \"custom.exercise_interaction\", \"data\": {\"outcomeType\": 2, \"failureMessage\": \"Please write code to create a heatmap.\", \"interactionType\": 1, \"questionType\": 2, \"questionId\": \"4.1_PlotHeat\", \"learnToolsVersion\": \"0.3.4\", \"valueTowardsCompletion\": 0.0, \"exceptionClass\": \"\", \"trace\": \"\"}}, \"*\")"
      ],
      "text/plain": [
       "<IPython.core.display.Javascript object>"
      ]
     },
     "metadata": {},
     "output_type": "display_data"
    },
    {
     "data": {
      "text/markdown": [
       "<span style=\"color:#cc3333\">Incorrect:</span> Please write code to create a heatmap."
      ],
      "text/plain": [
       "Incorrect: Please write code to create a heatmap."
      ]
     },
     "metadata": {},
     "output_type": "display_data"
    },
    {
     "data": {
      "text/plain": [
       "<Figure size 432x288 with 0 Axes>"
      ]
     },
     "metadata": {},
     "output_type": "display_data"
    }
   ],
   "source": [
    "# Heatmap showing average game score by platform and genre\n",
    "____ # Your code here\n",
    "\n",
    "# Check your answer\n",
    "step_4.a.check()"
   ]
  },
  {
   "cell_type": "code",
   "execution_count": 13,
   "id": "7d5014b3",
   "metadata": {
    "execution": {
     "iopub.execute_input": "2022-09-14T17:20:58.562630Z",
     "iopub.status.busy": "2022-09-14T17:20:58.561462Z",
     "iopub.status.idle": "2022-09-14T17:20:58.566662Z",
     "shell.execute_reply": "2022-09-14T17:20:58.565616Z"
    },
    "papermill": {
     "duration": 0.017752,
     "end_time": "2022-09-14T17:20:58.568867",
     "exception": false,
     "start_time": "2022-09-14T17:20:58.551115",
     "status": "completed"
    },
    "tags": []
   },
   "outputs": [],
   "source": [
    "# Lines below will give you a hint or solution code\n",
    "#step_4.a.hint()\n",
    "#step_4.a.solution_plot()"
   ]
  },
  {
   "cell_type": "markdown",
   "id": "501c5d90",
   "metadata": {
    "papermill": {
     "duration": 0.008912,
     "end_time": "2022-09-14T17:20:58.587029",
     "exception": false,
     "start_time": "2022-09-14T17:20:58.578117",
     "status": "completed"
    },
    "tags": []
   },
   "source": [
    "#### Part B\n",
    "\n",
    "Which combination of genre and platform receives the highest average ratings?  Which combination receives the lowest average rankings?"
   ]
  },
  {
   "cell_type": "code",
   "execution_count": 14,
   "id": "a9502d1e",
   "metadata": {
    "execution": {
     "iopub.execute_input": "2022-09-14T17:20:58.607351Z",
     "iopub.status.busy": "2022-09-14T17:20:58.606516Z",
     "iopub.status.idle": "2022-09-14T17:20:58.611056Z",
     "shell.execute_reply": "2022-09-14T17:20:58.610186Z"
    },
    "papermill": {
     "duration": 0.016932,
     "end_time": "2022-09-14T17:20:58.613100",
     "exception": false,
     "start_time": "2022-09-14T17:20:58.596168",
     "status": "completed"
    },
    "tags": []
   },
   "outputs": [],
   "source": [
    "#step_4.b.hint()"
   ]
  },
  {
   "cell_type": "code",
   "execution_count": 15,
   "id": "f02a7472",
   "metadata": {
    "execution": {
     "iopub.execute_input": "2022-09-14T17:20:58.634011Z",
     "iopub.status.busy": "2022-09-14T17:20:58.633202Z",
     "iopub.status.idle": "2022-09-14T17:20:58.641074Z",
     "shell.execute_reply": "2022-09-14T17:20:58.640102Z"
    },
    "papermill": {
     "duration": 0.020911,
     "end_time": "2022-09-14T17:20:58.643342",
     "exception": false,
     "start_time": "2022-09-14T17:20:58.622431",
     "status": "completed"
    },
    "tags": []
   },
   "outputs": [
    {
     "data": {
      "application/javascript": [
       "parent.postMessage({\"jupyterEvent\": \"custom.exercise_interaction\", \"data\": {\"interactionType\": 3, \"questionType\": 4, \"questionId\": \"4.2_ThinkHeat\", \"learnToolsVersion\": \"0.3.4\", \"valueTowardsCompletion\": 0.0, \"failureMessage\": \"\", \"exceptionClass\": \"\", \"trace\": \"\", \"outcomeType\": 4}}, \"*\")"
      ],
      "text/plain": [
       "<IPython.core.display.Javascript object>"
      ]
     },
     "metadata": {},
     "output_type": "display_data"
    },
    {
     "data": {
      "text/markdown": [
       "<span style=\"color:#33cc99\">Solution:</span> **Simulation** games for **Playstation 4** receive the highest average ratings (9.2). **Shooting** and **Fighting** games for **Game Boy Color** receive the lowest average rankings (4.5)."
      ],
      "text/plain": [
       "Solution: **Simulation** games for **Playstation 4** receive the highest average ratings (9.2). **Shooting** and **Fighting** games for **Game Boy Color** receive the lowest average rankings (4.5)."
      ]
     },
     "metadata": {},
     "output_type": "display_data"
    }
   ],
   "source": [
    "# Check your answer (Run this code cell to receive credit!)\n",
    "step_4.b.solution()"
   ]
  },
  {
   "cell_type": "markdown",
   "id": "0eff25a8",
   "metadata": {
    "papermill": {
     "duration": 0.009341,
     "end_time": "2022-09-14T17:20:58.662594",
     "exception": false,
     "start_time": "2022-09-14T17:20:58.653253",
     "status": "completed"
    },
    "tags": []
   },
   "source": [
    "# Keep going\n",
    "\n",
    "Move on to learn all about **[scatter plots](https://www.kaggle.com/alexisbcook/scatter-plots)**!"
   ]
  }
 ],
 "metadata": {
  "kernelspec": {
   "display_name": "Python 3",
   "language": "python",
   "name": "python3"
  },
  "language_info": {
   "codemirror_mode": {
    "name": "ipython",
    "version": 3
   },
   "file_extension": ".py",
   "mimetype": "text/x-python",
   "name": "python",
   "nbconvert_exporter": "python",
   "pygments_lexer": "ipython3",
   "version": "3.7.12"
  },
  "papermill": {
   "default_parameters": {},
   "duration": 13.185334,
   "end_time": "2022-09-14T17:20:59.493935",
   "environment_variables": {},
   "exception": null,
   "input_path": "__notebook__.ipynb",
   "output_path": "__notebook__.ipynb",
   "parameters": {},
   "start_time": "2022-09-14T17:20:46.308601",
   "version": "2.3.4"
  }
 },
 "nbformat": 4,
 "nbformat_minor": 5
}
